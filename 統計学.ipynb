{
  "nbformat": 4,
  "nbformat_minor": 0,
  "metadata": {
    "colab": {
      "provenance": [],
      "authorship_tag": "ABX9TyM9W7Kly7lHHNcaTuDAMZwz",
      "include_colab_link": true
    },
    "kernelspec": {
      "name": "python3",
      "display_name": "Python 3"
    },
    "language_info": {
      "name": "python"
    }
  },
  "cells": [
    {
      "cell_type": "markdown",
      "metadata": {
        "id": "view-in-github",
        "colab_type": "text"
      },
      "source": [
        "<a href=\"https://colab.research.google.com/github/HideyukiYokota/samurai/blob/main/%E7%B5%B1%E8%A8%88%E5%AD%A6.ipynb\" target=\"_parent\"><img src=\"https://colab.research.google.com/assets/colab-badge.svg\" alt=\"Open In Colab\"/></a>"
      ]
    },
    {
      "cell_type": "code",
      "execution_count": null,
      "metadata": {
        "id": "PH0e3yRZlmlq"
      },
      "outputs": [],
      "source": [
        "#統計学\n",
        "微分 y=x**2 　→　2x\n",
        "#数学\n",
        "行列　行×列　画像データは28X28=784の行列\n",
        "単位行列　E\n",
        "#確率・統計\n",
        "平均値・中央値・最頻値\n",
        "分散＝平均との差の２乗の総和/個数\n",
        "標準偏差＝分散の平方根\n",
        "相関係数は+-ある　xとyの共分散/ xの分散 x yの分散  \n",
        "確率密度関数\n",
        "正規分布\n",
        "期待値\n",
        "#回帰\n",
        "モデルの適用→パラメーターを求める→モデルの性能評価\n",
        "最小二乗法・最小絶対値法\n",
        "過学習・学習データ・テストデータ\n",
        "決定係数は相関係数の二乗　予測値と実際値の分散/平均と実際値の分散\n",
        "重回帰\n",
        "ニューラルネットワーク　ノードとエッジ　入力層・中間層・出力層\n",
        "#分類\n",
        "かてごりーを予測\n",
        "決定木　Gini不純度\n",
        "木構造・葉・深さ\n",
        "#分類の性能評価\n",
        "正解率      yes,no含む\n",
        "再現率　yes/真実　<>　特異率　no/真実\n",
        "適合率　yes/予測\n",
        "F値＝2x再現率x適合率/再現率+適合率\n",
        "ランダムフォレスト　グループごとに決定木設定して予測し判定結果を多数決で決定\n",
        "ロジスティクス回帰　シグモイド曲線　ボーダーライン\n",
        "#クラスタリング\n",
        "分類は正解がある　教師あり学習\n",
        "クラスタリングには正解がない　教師なし学習　  ex 顧客セグメンテーション\n",
        "重心\n",
        "階層的クラスリング\n",
        "\n",
        "\n",
        "\n",
        "\n",
        "\n",
        "\n",
        "\n",
        "\n",
        "\n",
        "\n",
        "\n",
        "\n",
        "\n",
        "\n",
        "\n",
        "\n",
        "\n",
        "\n",
        "\n",
        "\n",
        "\n"
      ]
    }
  ]
}