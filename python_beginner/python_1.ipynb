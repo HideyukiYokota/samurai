{
  "nbformat": 4,
  "nbformat_minor": 0,
  "metadata": {
    "colab": {
      "provenance": [],
      "authorship_tag": "ABX9TyPezia35wRFCUf2hapGNGLm",
      "include_colab_link": true
    },
    "kernelspec": {
      "name": "python3",
      "display_name": "Python 3"
    },
    "language_info": {
      "name": "python"
    }
  },
  "cells": [
    {
      "cell_type": "markdown",
      "metadata": {
        "id": "view-in-github",
        "colab_type": "text"
      },
      "source": [
        "<a href=\"https://colab.research.google.com/github/HideyukiYokota/samurai/blob/main/python_beginner/python_1.ipynb\" target=\"_parent\"><img src=\"https://colab.research.google.com/assets/colab-badge.svg\" alt=\"Open In Colab\"/></a>"
      ]
    },
    {
      "cell_type": "code",
      "execution_count": null,
      "metadata": {
        "id": "w_IRjOwYtYhr",
        "outputId": "d084f3cc-6e91-4f05-e17b-7791a1a7520c",
        "colab": {
          "base_uri": "https://localhost:8080/"
        }
      },
      "outputs": [
        {
          "output_type": "stream",
          "name": "stdout",
          "text": [
            "4\n"
          ]
        }
      ],
      "source": [
        "print(1+3)"
      ]
    },
    {
      "cell_type": "code",
      "source": [
        "age = 20 #年齢\n",
        "if age < 20:\n",
        "  print(\"ジュースで乾杯\")\n",
        "else:\n",
        "  print(\"お酒で乾杯\")"
      ],
      "metadata": {
        "id": "UkfWnyLAwrAa",
        "outputId": "3bb60909-211e-4a5a-954d-4d7017ccbc01",
        "colab": {
          "base_uri": "https://localhost:8080/"
        }
      },
      "execution_count": null,
      "outputs": [
        {
          "output_type": "stream",
          "name": "stdout",
          "text": [
            "お酒で乾杯\n"
          ]
        }
      ]
    },
    {
      "cell_type": "code",
      "source": [
        "print(\"今日の天気は\",\"雪\")\n",
        "print(\"今日の天気は\"+\"雪\")\n",
        "print(\"今日の天気は\"\"雪\")\n",
        "print(\"降水確率\" + str(50) + \"%\")\n",
        "print(\"雪\" * 5   )"
      ],
      "metadata": {
        "id": "9JyWxY_Xyar8"
      },
      "execution_count": null,
      "outputs": []
    },
    {
      "cell_type": "code",
      "source": [
        "user_name = \"侍太郎\"\n",
        "print(user_name)\n",
        "user_name = \"侍ハナコ\"\n",
        "print(user_name)\n",
        "last_name = \"侍\"\n",
        "first_name =\"太郎\"\n",
        "print(last_name + first_name)\n",
        "print(f\"私の名前は{last_name}{first_name}です。\")"
      ],
      "metadata": {
        "id": "ztTMQJlQzy7v"
      },
      "execution_count": null,
      "outputs": []
    },
    {
      "cell_type": "code",
      "source": [
        "user_names = [\"侍太郎\",\"侍次郎\"] #リスト\n",
        "print(user_names[1])\n",
        "print(user_names)\n",
        "user_names.append(\"侍五郎\")\n",
        "print(user_names)\n",
        "user_names.pop(1)\n",
        "print(user_names)"
      ],
      "metadata": {
        "id": "drb3Y2Je2h_j"
      },
      "execution_count": null,
      "outputs": []
    },
    {
      "cell_type": "code",
      "source": [
        "country_names = ('日本','アメリカ')#タプルは要素をこうしんできず\n",
        "print(country_names[0])\n",
        "prime_number = {2,5,7,3,5,5,5 } #セット\n",
        "#print(prime_number[2]) #セットは順番・重複なしなのでエラー\n",
        "prime_number.add(10)\n",
        "print(prime_number)\n",
        "prime_number.remove(2)\n",
        "print(prime_number)\n"
      ],
      "metadata": {
        "id": "1MV9SAbw4kL4"
      },
      "execution_count": null,
      "outputs": []
    },
    {
      "cell_type": "code",
      "source": [
        "stationary_prices = [70,120,150,90]\n",
        "stationary_prices = {\"鉛筆\":70,\"ボールペン\":120,\"ボールペン\":160,\"シャープペンシル\":150} #連想配列＝ディクショナリー\n",
        "print(stationary_prices[\"ボールペン\"]) \n",
        "print(stationary_prices) \n",
        "stationary_prices[\"ボールペン\"]= 130\n",
        "print(stationary_prices[\"ボールペン\"]) \n",
        "stationary_prices.pop(\"鉛筆\")\n",
        "print(stationary_prices)\n",
        "\n",
        "\n"
      ],
      "metadata": {
        "id": "ipv69vh65X6l",
        "colab": {
          "base_uri": "https://localhost:8080/"
        },
        "outputId": "aa983329-44ca-4fa7-820c-36c0459bc65b"
      },
      "execution_count": null,
      "outputs": [
        {
          "output_type": "stream",
          "name": "stdout",
          "text": [
            "160\n",
            "{'鉛筆': 70, 'ボールペン': 160, 'シャープペンシル': 150}\n",
            "130\n",
            "{'ボールペン': 130, 'シャープペンシル': 150}\n"
          ]
        }
      ]
    },
    {
      "cell_type": "code",
      "source": [
        "print(45+18 == 0)\n",
        "print(45>18)\n",
        "print(\"5\" == 5)\n",
        "print(\"5\" == str(5))"
      ],
      "metadata": {
        "id": "RSnt9Ef_bJAY"
      },
      "execution_count": null,
      "outputs": []
    },
    {
      "cell_type": "code",
      "source": [
        "import random\n",
        "num=random.randint(0,4)\n",
        "print(num)\n",
        "if num == 4 or num == 2:\n",
        "  print(\"大当たり\")\n",
        "elif num == 1:\n",
        "  print(\"中当たり\")\n",
        "else:\n",
        "  print(\"はずれ\")"
      ],
      "metadata": {
        "id": "3GoRrx7bb60H"
      },
      "execution_count": null,
      "outputs": []
    },
    {
      "cell_type": "code",
      "source": [
        "for i in range(1,10,1):\n",
        "  if i % 2 == 1:\n",
        "    continue\n",
        "  if i > 5:\n",
        "    break\n",
        "  print(\"値は{0}です\".format(i))"
      ],
      "metadata": {
        "colab": {
          "base_uri": "https://localhost:8080/"
        },
        "id": "VKyG840Kd6gU",
        "outputId": "029ff46a-bf8d-4e49-8449-5a9d3518e563"
      },
      "execution_count": null,
      "outputs": [
        {
          "output_type": "stream",
          "name": "stdout",
          "text": [
            "値は2です\n",
            "値は4です\n"
          ]
        }
      ]
    },
    {
      "cell_type": "code",
      "source": [
        "import random\n",
        "num = random.randint(0,4)\n",
        "while num !=  0:\n",
        "  if num == 1:\n",
        "     break\n",
        "  num = random.randint(0,4)\n",
        "  print(\"現在の値は{}です\".format(num))"
      ],
      "metadata": {
        "id": "b1T7aaJeekhp"
      },
      "execution_count": null,
      "outputs": []
    },
    {
      "cell_type": "markdown",
      "source": [
        "\n"
      ],
      "metadata": {
        "id": "OLO_tGDOjL7d"
      }
    },
    {
      "cell_type": "code",
      "source": [
        "user_names = [\"侍太郎\",\"侍次郎\",\"侍三郎\"]\n",
        "for user_name in user_names:\n",
        "  print(user_name)\n",
        "for index,value in enumerate(user_names):\n",
        "  print(\"{}は{}です\".format(index,value))"
      ],
      "metadata": {
        "colab": {
          "base_uri": "https://localhost:8080/"
        },
        "id": "WZgyd9BOj-Ym",
        "outputId": "50d17289-aab5-4d39-e226-d8c9dc5175dd"
      },
      "execution_count": null,
      "outputs": [
        {
          "output_type": "stream",
          "name": "stdout",
          "text": [
            "侍太郎\n",
            "侍次郎\n",
            "侍三郎\n",
            "0は侍太郎です\n",
            "1は侍次郎です\n",
            "2は侍三郎です\n"
          ]
        }
      ]
    },
    {
      "cell_type": "code",
      "source": [
        "personal_data = {\"name\":\"侍太郎\",\"age\":36,\"gender\":\"男性\"} #辞書型\n",
        "for key,value in personal_data.items():\n",
        "  print(\"{}は{}です\".format(key,value))"
      ],
      "metadata": {
        "colab": {
          "base_uri": "https://localhost:8080/"
        },
        "id": "x3l0frUYlIoP",
        "outputId": "0b473e61-234c-43b6-f1df-55d162de24cc"
      },
      "execution_count": null,
      "outputs": [
        {
          "output_type": "stream",
          "name": "stdout",
          "text": [
            "nameは侍太郎です\n",
            "ageは36です\n",
            "genderは男性です\n"
          ]
        }
      ]
    },
    {
      "cell_type": "code",
      "source": [
        "def say_good_morning():\n",
        "  print(\"おはよう\")\n",
        "  print(\"こんにちは\")\n",
        "  print(\"おやすみ\")\n",
        "\n",
        "say_good_morning()\n",
        "say_good_morning()"
      ],
      "metadata": {
        "id": "bt9w80ZAmaE5"
      },
      "execution_count": null,
      "outputs": []
    },
    {
      "cell_type": "code",
      "source": [
        "def calculate_price(price):\n",
        "  total = price + 500\n",
        "  print(\"{}です\".format(total))\n",
        "\n",
        "calculate_price(1200)"
      ],
      "metadata": {
        "colab": {
          "base_uri": "https://localhost:8080/"
        },
        "id": "ddcxBsKFrGvi",
        "outputId": "5e53d8c2-00ac-426f-9baf-4c224325fd3d"
      },
      "execution_count": null,
      "outputs": [
        {
          "output_type": "stream",
          "name": "stdout",
          "text": [
            "1700です\n"
          ]
        }
      ]
    },
    {
      "cell_type": "code",
      "source": [
        "purchased = True\n",
        "def is_purchased():\n",
        "  if (purchased):\n",
        "    return True\n",
        "  else:\n",
        "    return False\n",
        "\n",
        "if (is_purchased()):\n",
        "    print(\"商品はこうにゅうすみです。\")\n",
        "\n",
        "#is_purchased()"
      ],
      "metadata": {
        "colab": {
          "base_uri": "https://localhost:8080/"
        },
        "id": "ze0xF0odsGHX",
        "outputId": "24bcc87a-bec8-4d46-9599-d1e300708dc0"
      },
      "execution_count": null,
      "outputs": [
        {
          "output_type": "stream",
          "name": "stdout",
          "text": [
            "商品はこうにゅうすみです。\n"
          ]
        }
      ]
    },
    {
      "cell_type": "code",
      "source": [
        "def double(num:int)->int:\n",
        "  return num*2\n",
        "double(10)"
      ],
      "metadata": {
        "colab": {
          "base_uri": "https://localhost:8080/"
        },
        "id": "0FtLpALIuc01",
        "outputId": "4585ca0e-51b9-4d9a-8fb3-a7846f1f4f99"
      },
      "execution_count": null,
      "outputs": [
        {
          "output_type": "execute_result",
          "data": {
            "text/plain": [
              "20"
            ]
          },
          "metadata": {},
          "execution_count": 63
        }
      ]
    },
    {
      "cell_type": "code",
      "source": [
        "user_name = \"侍ハナコ\"\n",
        "def show_user_name():\n",
        "  #user_name = \"侍太郎\"\n",
        "  print(user_name)\n",
        "show_user_name()\n",
        "print(user_name)"
      ],
      "metadata": {
        "colab": {
          "base_uri": "https://localhost:8080/"
        },
        "id": "Z6hpTMuivX4c",
        "outputId": "d3f6b9ab-a9d1-4871-d6bb-24456a385f4e"
      },
      "execution_count": null,
      "outputs": [
        {
          "output_type": "stream",
          "name": "stdout",
          "text": [
            "侍ハナコ\n",
            "侍ハナコ\n"
          ]
        }
      ]
    },
    {
      "cell_type": "code",
      "source": [
        "class Product:\n",
        "  def __init__(self) :\n",
        "    self.name = ''\n",
        "  def set_name(self,name):\n",
        "      self.name = name\n",
        "  def show_name(self):\n",
        "    print(self.name)\n",
        "\n",
        "#shampoo.name = 'シャンプー'\n",
        "#print(shampoo.name)\n",
        "\n",
        "shampoo = Product()\n",
        "shampoo.set_name(\"一合\")\n",
        "# print(shampoo.name)\n",
        "shampoo.show_name()\n"
      ],
      "metadata": {
        "id": "t-WfnUlDw3sX"
      },
      "execution_count": null,
      "outputs": []
    },
    {
      "cell_type": "code",
      "source": [
        "!rm /etc/localtime\n",
        "!ln -s /usr/share/zoneinfo/Asia/Tokyo /etc/localtime\n",
        "!date"
      ],
      "metadata": {
        "colab": {
          "base_uri": "https://localhost:8080/"
        },
        "id": "7Y9wsP5c202Y",
        "outputId": "ab9d82a1-9d58-4bef-943c-10c91b9f4635"
      },
      "execution_count": null,
      "outputs": [
        {
          "output_type": "stream",
          "name": "stdout",
          "text": [
            "Mon 13 Mar 2023 04:30:56 PM JST\n"
          ]
        }
      ]
    },
    {
      "cell_type": "code",
      "source": [
        "!rm /etc/localtime\n",
        "!ln -s /usr/share/zoneinfo/Asia/Tokyo /etc/localtime\n",
        "!date\n",
        "import time\n",
        "print(time.strftime(\"%Y年%m月%d日%H時%M分\",time.localtime()))"
      ],
      "metadata": {
        "colab": {
          "base_uri": "https://localhost:8080/"
        },
        "id": "7U7jHQLQ1AJd",
        "outputId": "4a9cb4cf-de43-4c1f-d8f7-da411f720a06"
      },
      "execution_count": null,
      "outputs": [
        {
          "output_type": "stream",
          "name": "stdout",
          "text": [
            "Mon 13 Mar 2023 04:54:03 PM JST\n",
            "2023年03月13日07時54分\n"
          ]
        }
      ]
    },
    {
      "cell_type": "code",
      "source": [
        "import datetime\n",
        "now = datetime.datetime.now()\n",
        "date = datetime.datetime.strptime(\"2015-03-19\",\"%Y-%m-%d\")\n",
        "date_time = datetime.datetime.strptime(\"2015-03-19 12:15:30\", \"%Y-%m-%d %H:%M:%S\")\n",
        "print(date_time.strftime(\"%Y年%m月%d日%H時%M分\"))\n",
        "now= datetime.datetime.now()\n",
        "print(now.strftime(\"%Y年%m月%d日%H時%M分\"))\n"
      ],
      "metadata": {
        "colab": {
          "base_uri": "https://localhost:8080/"
        },
        "id": "Z8VhUCcs6dID",
        "outputId": "fb6fa1a9-4267-48a2-9fb4-34ead1dba551"
      },
      "execution_count": null,
      "outputs": [
        {
          "output_type": "stream",
          "name": "stdout",
          "text": [
            "2015年03月19日12時15分\n",
            "2023年03月13日07時57分\n"
          ]
        }
      ]
    },
    {
      "cell_type": "code",
      "source": [
        "import datetime\n",
        "now = datetime.datetime.now()\n",
        "td_1d =  datetime.timedelta(days=365) \n",
        "add = now + td_1d\n",
        "td_3d = datetime.timedelta(days=3)\n",
        "sub = now - td_3d\n",
        "print(add.strftime(\"現在から1年後は%Y年%m月%d日%H時%M分%S秒です。\"))\n",
        "print(sub.strftime(\"現在から3日前は%Y年%m月%d日%H時%M分%S秒です。\"))\n"
      ],
      "metadata": {
        "colab": {
          "base_uri": "https://localhost:8080/"
        },
        "id": "biV7xt1t-mWp",
        "outputId": "6bba71ea-dcb8-412e-d0ed-1a0a7fa61997"
      },
      "execution_count": null,
      "outputs": [
        {
          "output_type": "stream",
          "name": "stdout",
          "text": [
            "現在から1年後は2024年03月12日08時04分44秒です。\n",
            "現在から3日前は2023年03月10日08時04分44秒です。\n"
          ]
        }
      ]
    }
  ]
}